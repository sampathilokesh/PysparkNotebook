{
 "cells": [
  {
   "cell_type": "code",
   "execution_count": 0,
   "metadata": {
    "application/vnd.databricks.v1+cell": {
     "cellMetadata": {},
     "inputWidgets": {},
     "nuid": "5f7a4786-91bf-4594-8748-2dc5511ffeb8",
     "showTitle": false,
     "title": ""
    }
   },
   "outputs": [],
   "source": [
    "# aggregate functions\n",
    "# these are used to perform functions on grouped data return single value as a result\n",
    "    # approx_count_distinct() \n",
    "    #countDistinct()\n",
    "    # avg()\n",
    "    # count()\n",
    "    # collect_list\n",
    "    # collect_set\n",
    " #all are used to in select function to get values"
   ]
  },
  {
   "cell_type": "code",
   "execution_count": 0,
   "metadata": {
    "application/vnd.databricks.v1+cell": {
     "cellMetadata": {},
     "inputWidgets": {},
     "nuid": "8d7dd0fc-6182-4c69-8064-14f3d774539c",
     "showTitle": false,
     "title": ""
    }
   },
   "outputs": [],
   "source": [
    "# ranking funcions\n",
    "# these functions used when partion or create windows for data to give row_number, rank, dens_rank\n",
    "# or order by "
   ]
  },
  {
   "cell_type": "code",
   "execution_count": 0,
   "metadata": {
    "application/vnd.databricks.v1+cell": {
     "cellMetadata": {
      "byteLimit": 2048000,
      "rowLimit": 10000
     },
     "inputWidgets": {},
     "nuid": "23c89a0e-fdb2-453f-a6bc-e31ed888dad2",
     "showTitle": false,
     "title": ""
    }
   },
   "outputs": [],
   "source": [
    "from pyspark.sql.functions import row_number\n",
    "from pyspark.sql.types import StructType,StructField,IntegerType,StringType\n",
    "from pyspark.sql.window import Window\n",
    "from pyspark.sql import Row"
   ]
  },
  {
   "cell_type": "code",
   "execution_count": 0,
   "metadata": {
    "application/vnd.databricks.v1+cell": {
     "cellMetadata": {
      "byteLimit": 2048000,
      "rowLimit": 10000
     },
     "inputWidgets": {},
     "nuid": "6fdce4eb-1b7c-4989-bbe2-92dab073bc2a",
     "showTitle": false,
     "title": ""
    }
   },
   "outputs": [
    {
     "output_type": "display_data",
     "data": {
      "text/html": [
       "<style scoped>\n",
       "  .table-result-container {\n",
       "    max-height: 300px;\n",
       "    overflow: auto;\n",
       "  }\n",
       "  table, th, td {\n",
       "    border: 1px solid black;\n",
       "    border-collapse: collapse;\n",
       "  }\n",
       "  th, td {\n",
       "    padding: 5px;\n",
       "  }\n",
       "  th {\n",
       "    text-align: left;\n",
       "  }\n",
       "</style><div class='table-result-container'><table class='table-result'><thead style='background-color: white'><tr><th>id</th><th>name</th><th>company</th><th>domain</th><th>salary</th></tr></thead><tbody><tr><td>1</td><td>lokesh</td><td>HCL</td><td>RPA</td><td>2000</td></tr><tr><td>2</td><td>GOPAL</td><td>TCS</td><td>MEDICAL</td><td>3000</td></tr><tr><td>3</td><td>SUHAIL</td><td>HCL</td><td>RPA</td><td>1500</td></tr><tr><td>4</td><td>ESWAR</td><td>INFOSYS</td><td>APPS</td><td>4000</td></tr><tr><td>5</td><td>RAMU</td><td>HCL</td><td>RPA</td><td>1000</td></tr><tr><td>6</td><td>MANOJ</td><td>TCS</td><td>APPS</td><td>7000</td></tr></tbody></table></div>"
      ]
     },
     "metadata": {
      "application/vnd.databricks.v1+output": {
       "addedWidgets": {},
       "aggData": [],
       "aggError": "",
       "aggOverflow": false,
       "aggSchema": [],
       "aggSeriesLimitReached": false,
       "aggType": "",
       "arguments": {},
       "columnCustomDisplayInfos": {},
       "data": [
        [
         1,
         "lokesh",
         "HCL",
         "RPA",
         2000
        ],
        [
         2,
         "GOPAL",
         "TCS",
         "MEDICAL",
         3000
        ],
        [
         3,
         "SUHAIL",
         "HCL",
         "RPA",
         1500
        ],
        [
         4,
         "ESWAR",
         "INFOSYS",
         "APPS",
         4000
        ],
        [
         5,
         "RAMU",
         "HCL",
         "RPA",
         1000
        ],
        [
         6,
         "MANOJ",
         "TCS",
         "APPS",
         7000
        ]
       ],
       "datasetInfos": [],
       "dbfsResultPath": null,
       "isJsonSchema": true,
       "metadata": {},
       "overflow": false,
       "plotOptions": {
        "customPlotOptions": {},
        "displayType": "table",
        "pivotAggregation": null,
        "pivotColumns": null,
        "xColumns": null,
        "yColumns": null
       },
       "removedWidgets": [],
       "schema": [
        {
         "metadata": "{}",
         "name": "id",
         "type": "\"integer\""
        },
        {
         "metadata": "{}",
         "name": "name",
         "type": "\"string\""
        },
        {
         "metadata": "{}",
         "name": "company",
         "type": "\"string\""
        },
        {
         "metadata": "{}",
         "name": "domain",
         "type": "\"string\""
        },
        {
         "metadata": "{}",
         "name": "salary",
         "type": "\"integer\""
        }
       ],
       "type": "table"
      }
     },
     "output_type": "display_data"
    }
   ],
   "source": [
    "schema=StructType([\\\n",
    "    StructField('id',IntegerType()),\\\n",
    "    StructField('name',StringType()),\\\n",
    "    StructField('company',StringType()),\\\n",
    "    StructField('domain',StringType()),\\\n",
    "    StructField('salary',IntegerType())])\n",
    "row1=Row(1,'lokesh','HCL','RPA',2000)\n",
    "row2=Row(2,'GOPAL','TCS','MEDICAL',3000)\n",
    "row3=Row(3,'SUHAIL','HCL','RPA',1500)\n",
    "row4=Row(4,'ESWAR','INFOSYS','APPS',4000)\n",
    "row5=Row(5,'RAMU','HCL','RPA',1000)\n",
    "row6=Row(6,'MANOJ','TCS','APPS',7000)\n",
    "data=[row1,row2,row3,row4,row5,row6]\n",
    "df=spark.createDataFrame(data,schema)\n",
    "display(df)"
   ]
  },
  {
   "cell_type": "code",
   "execution_count": 0,
   "metadata": {
    "application/vnd.databricks.v1+cell": {
     "cellMetadata": {
      "byteLimit": 2048000,
      "rowLimit": 10000
     },
     "inputWidgets": {},
     "nuid": "6a7778df-78bb-426e-b32f-0605d10345e1",
     "showTitle": false,
     "title": ""
    }
   },
   "outputs": [
    {
     "output_type": "stream",
     "name": "stdout",
     "output_type": "stream",
     "text": [
      "+---+------+-------+-------+------+---------+\n| id|  name|company| domain|salary|rowNumber|\n+---+------+-------+-------+------+---------+\n|  5|  RAMU|    HCL|    RPA|  1000|        1|\n|  3|SUHAIL|    HCL|    RPA|  1500|        2|\n|  1|lokesh|    HCL|    RPA|  2000|        3|\n|  4| ESWAR|INFOSYS|   APPS|  4000|        1|\n|  2| GOPAL|    TCS|MEDICAL|  3000|        1|\n|  6| MANOJ|    TCS|   APPS|  7000|        2|\n+---+------+-------+-------+------+---------+\n\n"
     ]
    }
   ],
   "source": [
    "window=Window.partitionBy('company').orderBy('salary')\n",
    "df.withColumn('rowNumber',row_number().over(window)).show()\n",
    "# it gives you row number from start for every window by this we can easily filter data by applying conditions on row number"
   ]
  },
  {
   "cell_type": "code",
   "execution_count": 0,
   "metadata": {
    "application/vnd.databricks.v1+cell": {
     "cellMetadata": {},
     "inputWidgets": {},
     "nuid": "f5062aad-f59e-43b8-a3c2-5fb625407deb",
     "showTitle": false,
     "title": ""
    }
   },
   "outputs": [],
   "source": []
  }
 ],
 "metadata": {
  "application/vnd.databricks.v1+notebook": {
   "dashboards": [],
   "language": "python",
   "notebookMetadata": {
    "pythonIndentUnit": 4
   },
   "notebookName": "extra pyspak",
   "widgets": {}
  }
 },
 "nbformat": 4,
 "nbformat_minor": 0
}
